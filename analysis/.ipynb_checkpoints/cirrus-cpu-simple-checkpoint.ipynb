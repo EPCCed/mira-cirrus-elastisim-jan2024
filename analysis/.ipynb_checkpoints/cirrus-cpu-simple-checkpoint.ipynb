{
 "cells": [
  {
   "cell_type": "code",
   "execution_count": 7,
   "id": "7dfd802c-eac4-481f-8674-2dca00c93eb6",
   "metadata": {},
   "outputs": [],
   "source": [
    "import pandas as pd\n",
    "import seaborn as sns"
   ]
  },
  {
   "cell_type": "code",
   "execution_count": 8,
   "id": "657975a4-8b1d-417b-a147-1edfd274976d",
   "metadata": {},
   "outputs": [
    {
     "data": {
      "text/html": [
       "<div>\n",
       "<style scoped>\n",
       "    .dataframe tbody tr th:only-of-type {\n",
       "        vertical-align: middle;\n",
       "    }\n",
       "\n",
       "    .dataframe tbody tr th {\n",
       "        vertical-align: top;\n",
       "    }\n",
       "\n",
       "    .dataframe thead th {\n",
       "        text-align: right;\n",
       "    }\n",
       "</style>\n",
       "<table border=\"1\" class=\"dataframe\">\n",
       "  <thead>\n",
       "    <tr style=\"text-align: right;\">\n",
       "      <th></th>\n",
       "      <th>Time</th>\n",
       "      <th>Node</th>\n",
       "      <th>State</th>\n",
       "      <th>Running jobs</th>\n",
       "      <th>Expected jobs</th>\n",
       "    </tr>\n",
       "  </thead>\n",
       "  <tbody>\n",
       "    <tr>\n",
       "      <th>0</th>\n",
       "      <td>0</td>\n",
       "      <td>CCPU_100</td>\n",
       "      <td>free</td>\n",
       "      <td>none</td>\n",
       "      <td>none</td>\n",
       "    </tr>\n",
       "    <tr>\n",
       "      <th>1</th>\n",
       "      <td>0</td>\n",
       "      <td>CCPU_1000</td>\n",
       "      <td>free</td>\n",
       "      <td>none</td>\n",
       "      <td>none</td>\n",
       "    </tr>\n",
       "    <tr>\n",
       "      <th>2</th>\n",
       "      <td>0</td>\n",
       "      <td>CCPU_10000</td>\n",
       "      <td>free</td>\n",
       "      <td>none</td>\n",
       "      <td>none</td>\n",
       "    </tr>\n",
       "    <tr>\n",
       "      <th>3</th>\n",
       "      <td>0</td>\n",
       "      <td>CCPU_10001</td>\n",
       "      <td>free</td>\n",
       "      <td>none</td>\n",
       "      <td>none</td>\n",
       "    </tr>\n",
       "    <tr>\n",
       "      <th>4</th>\n",
       "      <td>0</td>\n",
       "      <td>CCPU_10002</td>\n",
       "      <td>free</td>\n",
       "      <td>none</td>\n",
       "      <td>none</td>\n",
       "    </tr>\n",
       "  </tbody>\n",
       "</table>\n",
       "</div>"
      ],
      "text/plain": [
       "   Time        Node State Running jobs Expected jobs\n",
       "0     0    CCPU_100  free         none          none\n",
       "1     0   CCPU_1000  free         none          none\n",
       "2     0  CCPU_10000  free         none          none\n",
       "3     0  CCPU_10001  free         none          none\n",
       "4     0  CCPU_10002  free         none          none"
      ]
     },
     "execution_count": 8,
     "metadata": {},
     "output_type": "execute_result"
    }
   ],
   "source": [
    "df_node = pd.read_csv('../cirrus-cpu-simple/data/output/node_utilization.csv')\n",
    "df_node.head()\n",
    "                 "
   ]
  },
  {
   "cell_type": "code",
   "execution_count": 13,
   "id": "4e92e7fd-058c-41c0-9933-308059295401",
   "metadata": {},
   "outputs": [
    {
     "name": "stdout",
     "output_type": "stream",
     "text": [
      "                  Node  Running jobs  Expected jobs\n",
      "Time  State                                        \n",
      "0     allocated     32            32             32\n",
      "      free       10081         10081          10081\n",
      "1560  allocated    384           384            384\n",
      "1603  allocated    384           384            384\n",
      "1617  allocated    384           384            384\n",
      "...                ...           ...            ...\n",
      "11516 free         216           216            216\n",
      "11517 free         108           108            108\n",
      "11518 free          72            72             72\n",
      "11590 free        1548          1548           1548\n",
      "11632 free          36            36             36\n",
      "\n",
      "[340 rows x 3 columns]\n"
     ]
    },
    {
     "data": {
      "text/plain": [
       "<Axes: xlabel='Time', ylabel='Node'>"
      ]
     },
     "execution_count": 13,
     "metadata": {},
     "output_type": "execute_result"
    },
    {
     "data": {
      "image/png": "[encoded data removed]",
      "text/plain": [
       "<Figure size 640x480 with 1 Axes>"
      ]
     },
     "metadata": {},
     "output_type": "display_data"
    }
   ],
   "source": [
    "df_grouped = df_node.groupby(by=['Time','State']).count()\n",
    "print(df_grouped)\n",
    "sns.scatterplot(data=df_grouped, x='Time', y='Node', hue='State')"
   ]
  },
  {
   "cell_type": "code",
   "execution_count": 4,
   "id": "a3801712-824e-4260-a4e5-1b93811afdc5",
   "metadata": {},
   "outputs": [
    {
     "data": {
      "text/html": [
       "<div>\n",
       "<style scoped>\n",
       "    .dataframe tbody tr th:only-of-type {\n",
       "        vertical-align: middle;\n",
       "    }\n",
       "\n",
       "    .dataframe tbody tr th {\n",
       "        vertical-align: top;\n",
       "    }\n",
       "\n",
       "    .dataframe thead th {\n",
       "        text-align: right;\n",
       "    }\n",
       "</style>\n",
       "<table border=\"1\" class=\"dataframe\">\n",
       "  <thead>\n",
       "    <tr style=\"text-align: right;\">\n",
       "      <th></th>\n",
       "      <th>ID</th>\n",
       "      <th>Type</th>\n",
       "      <th>Submit Time</th>\n",
       "      <th>Start Time</th>\n",
       "      <th>End Time</th>\n",
       "      <th>Wait Time</th>\n",
       "      <th>Makespan</th>\n",
       "      <th>Turnaround Time</th>\n",
       "      <th>Status</th>\n",
       "    </tr>\n",
       "  </thead>\n",
       "  <tbody>\n",
       "    <tr>\n",
       "      <th>0</th>\n",
       "      <td>0</td>\n",
       "      <td>rigid</td>\n",
       "      <td>0</td>\n",
       "      <td>0</td>\n",
       "      <td>4320</td>\n",
       "      <td>0</td>\n",
       "      <td>4320</td>\n",
       "      <td>4320</td>\n",
       "      <td>completed</td>\n",
       "    </tr>\n",
       "    <tr>\n",
       "      <th>1</th>\n",
       "      <td>1</td>\n",
       "      <td>rigid</td>\n",
       "      <td>1560</td>\n",
       "      <td>1560</td>\n",
       "      <td>2569</td>\n",
       "      <td>0</td>\n",
       "      <td>1009</td>\n",
       "      <td>1009</td>\n",
       "      <td>completed</td>\n",
       "    </tr>\n",
       "    <tr>\n",
       "      <th>2</th>\n",
       "      <td>2</td>\n",
       "      <td>rigid</td>\n",
       "      <td>1560</td>\n",
       "      <td>1560</td>\n",
       "      <td>2582</td>\n",
       "      <td>0</td>\n",
       "      <td>1022</td>\n",
       "      <td>1022</td>\n",
       "      <td>completed</td>\n",
       "    </tr>\n",
       "    <tr>\n",
       "      <th>3</th>\n",
       "      <td>3</td>\n",
       "      <td>rigid</td>\n",
       "      <td>1560</td>\n",
       "      <td>1560</td>\n",
       "      <td>2494</td>\n",
       "      <td>0</td>\n",
       "      <td>934</td>\n",
       "      <td>934</td>\n",
       "      <td>completed</td>\n",
       "    </tr>\n",
       "    <tr>\n",
       "      <th>4</th>\n",
       "      <td>4</td>\n",
       "      <td>rigid</td>\n",
       "      <td>1560</td>\n",
       "      <td>1560</td>\n",
       "      <td>2384</td>\n",
       "      <td>0</td>\n",
       "      <td>824</td>\n",
       "      <td>824</td>\n",
       "      <td>completed</td>\n",
       "    </tr>\n",
       "  </tbody>\n",
       "</table>\n",
       "</div>"
      ],
      "text/plain": [
       "   ID   Type  Submit Time  Start Time  End Time  Wait Time  Makespan  \\\n",
       "0   0  rigid            0           0      4320          0      4320   \n",
       "1   1  rigid         1560        1560      2569          0      1009   \n",
       "2   2  rigid         1560        1560      2582          0      1022   \n",
       "3   3  rigid         1560        1560      2494          0       934   \n",
       "4   4  rigid         1560        1560      2384          0       824   \n",
       "\n",
       "   Turnaround Time     Status  \n",
       "0             4320  completed  \n",
       "1             1009  completed  \n",
       "2             1022  completed  \n",
       "3              934  completed  \n",
       "4              824  completed  "
      ]
     },
     "execution_count": 4,
     "metadata": {},
     "output_type": "execute_result"
    }
   ],
   "source": [
    "df_jobs = pd.read_csv('../cirrus-cpu-simple/data/output/job_statistics.csv')\n",
    "df_jobs.head()"
   ]
  },
  {
   "cell_type": "code",
   "execution_count": null,
   "id": "03d4b8e4-7a04-4e54-92bb-363b0b836fd3",
   "metadata": {},
   "outputs": [],
   "source": []
  }
 ],
 "metadata": {
  "kernelspec": {
   "display_name": "Python 3 (ipykernel)",
   "language": "python",
   "name": "python3"
  },
  "language_info": {
   "codemirror_mode": {
    "name": "ipython",
    "version": 3
   },
   "file_extension": ".py",
   "mimetype": "text/x-python",
   "name": "python",
   "nbconvert_exporter": "python",
   "pygments_lexer": "ipython3",
   "version": "3.11.7"
  }
 },
 "nbformat": 4,
 "nbformat_minor": 5
}
